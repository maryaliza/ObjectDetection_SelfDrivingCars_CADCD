{
 "cells": [
  {
   "cell_type": "code",
   "execution_count": 4,
   "metadata": {},
   "outputs": [],
   "source": [
    "import cv2"
   ]
  },
  {
   "cell_type": "code",
   "execution_count": 5,
   "metadata": {},
   "outputs": [
    {
     "name": "stdout",
     "output_type": "stream",
     "text": [
      "(624, 1280, 3)\n"
     ]
    }
   ],
   "source": [
    "def readf(name):\n",
    "    x=[]\n",
    "    img = cv2.imread(f'/Users/marya/OneDrive/Documents/MARC/PhD/Courses/Sep 788_789/Final Project/processed/processed/train/image_00/{name}.png')\n",
    "    with open('/Users/marya/OneDrive/Documents/MARC/PhD/Courses/Sep 788_789/Final Project/processed/processed/train/annotation_00/'+name+'.txt') as file:\n",
    "        \n",
    "        for line in file:\n",
    "            g=(line.strip('\\n').split())[4:8]\n",
    "            # print(g)\n",
    "            g[0]=float(g[0])\n",
    "            g[1:]=[float(m) for m in g[1:]]\n",
    "            x.append(g)\n",
    "    return x, img\n",
    "\n",
    "\n",
    "def xywh(c, g):\n",
    "\n",
    "    \n",
    "    xtop = int(round((c[0])))\n",
    "    xbot = int(round((c[1])))\n",
    "    ytop = int(round((c[2])))\n",
    "    ybot = int(round((c[3])))\n",
    "    \n",
    "    return xtop, xbot, ytop, ybot\n",
    "\n",
    "\n",
    "label = readf('0000270')\n",
    "print(label[1].shape)\n",
    "window_name = 'image'\n",
    "\n",
    "for i in range(len(label[0])):\n",
    "    bb=xywh(label[0][i], label[1].shape)\n",
    "    cv2.rectangle(label[1], (bb[0], bb[1]), (bb[2], bb[3]), (255,0, 0), 6)\n",
    "\n",
    "cv2.imshow(window_name, label[1])\n",
    "\n",
    "cv2.waitKey(0)\n",
    "cv2.destroyAllWindows()\n"
   ]
  },
  {
   "cell_type": "code",
   "execution_count": null,
   "metadata": {},
   "outputs": [],
   "source": []
  }
 ],
 "metadata": {
  "kernelspec": {
   "display_name": "Python 3",
   "language": "python",
   "name": "python3"
  },
  "language_info": {
   "codemirror_mode": {
    "name": "ipython",
    "version": 3
   },
   "file_extension": ".py",
   "mimetype": "text/x-python",
   "name": "python",
   "nbconvert_exporter": "python",
   "pygments_lexer": "ipython3",
   "version": "3.7.6"
  }
 },
 "nbformat": 4,
 "nbformat_minor": 4
}
